{
  "metadata": {
    "language_info": {
      "codemirror_mode": {
        "name": "python",
        "version": 3
      },
      "file_extension": ".py",
      "mimetype": "text/x-python",
      "name": "python",
      "nbconvert_exporter": "python",
      "pygments_lexer": "ipython3",
      "version": "3.8"
    },
    "kernelspec": {
      "name": "python",
      "display_name": "Python (Pyodide)",
      "language": "python"
    }
  },
  "nbformat_minor": 4,
  "nbformat": 4,
  "cells": [
    {
      "cell_type": "code",
      "source": "import request\nimport pandas as pd\n\npharacy_data = []\n\nfor i in range(1, 100):\n    url = f'https://pharmeasy.in/api/otc/getcategoryProducts?categoryId=113&page={i}\n    \n    response = request.get(url)\n    json_data = response.json()\n    products = json_data['data]['products']\n    for i in range (20):\n        name = products[i]['name']\n        Price = products[i] ['mrpDecimal']\n        discount = products[i] ['discountDecimal']\n        image = products[i]['damImages'][0]['url']\n        pharmacy_data.append([name, price, discount, image])\n        df = pd.DataFrame(pharmacy_data, colums=['name', 'price', 'Discount', 'image'])\n        df.to_csv('Pharmacy-details.csv', index=False)\n                          \n        print(pharmacy_data)\n                          \n                          \n                          ",
      "metadata": {
        "trusted": true
      },
      "execution_count": 3,
      "outputs": [
        {
          "ename": "<class 'SyntaxError'>",
          "evalue": "unterminated string literal (detected at line 11) (<ipython-input-3-0613849ae2b9>, line 11)",
          "traceback": [
            "\u001b[0;36m  Cell \u001b[0;32mIn[3], line 11\u001b[0;36m\u001b[0m\n\u001b[0;31m    products = json_data['data]['products']\u001b[0m\n\u001b[0m                                         ^\u001b[0m\n\u001b[0;31mSyntaxError\u001b[0m\u001b[0;31m:\u001b[0m unterminated string literal (detected at line 11)\n"
          ],
          "output_type": "error"
        }
      ]
    },
    {
      "cell_type": "code",
      "source": "",
      "metadata": {},
      "execution_count": null,
      "outputs": []
    }
  ]
}